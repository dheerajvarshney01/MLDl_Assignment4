{
  "nbformat": 4,
  "nbformat_minor": 0,
  "metadata": {
    "colab": {
      "name": "MLDl_Assignment4.ipynb",
      "provenance": [],
      "collapsed_sections": []
    },
    "kernelspec": {
      "name": "python3",
      "display_name": "Python 3"
    }
  },
  "cells": [
    {
      "cell_type": "code",
      "metadata": {
        "id": "I69SPn6qKZHi",
        "colab_type": "code",
        "colab": {}
      },
      "source": [
        "class sqarea:\n",
        "    def __init__(self,a,b,c):\n",
        "        self.a = a\n",
        "        self.b = b\n",
        "        self.c = c\n",
        "        \n",
        "        s = (a+b+c)/2\n",
        "        area = (s*(s-a)*(s-b)*(s-c)) ** 0.5\n",
        "        return print(area)\n",
        "\n",
        "class sqarea2(sqarea):       \n",
        "    def __init__(self,*args):\n",
        "        super(sqarea2,self).__init__(*args)"
      ],
      "execution_count": 1,
      "outputs": []
    },
    {
      "cell_type": "code",
      "metadata": {
        "id": "atheaazrKeWG",
        "colab_type": "code",
        "colab": {
          "base_uri": "https://localhost:8080/",
          "height": 50
        },
        "outputId": "c8f92dae-98fd-4255-8d2d-bdc85cd20205"
      },
      "source": [
        "sqarea2(4,5,6)"
      ],
      "execution_count": 2,
      "outputs": [
        {
          "output_type": "stream",
          "text": [
            "9.921567416492215\n"
          ],
          "name": "stdout"
        },
        {
          "output_type": "execute_result",
          "data": {
            "text/plain": [
              "<__main__.sqarea2 at 0x7f742ecbeb70>"
            ]
          },
          "metadata": {
            "tags": []
          },
          "execution_count": 2
        }
      ]
    },
    {
      "cell_type": "code",
      "metadata": {
        "id": "z1QfEt7aNidA",
        "colab_type": "code",
        "colab": {}
      },
      "source": [
        "def filter_long_words(words,n):\n",
        "    list =[]\n",
        "    a= words.split(\" \")\n",
        "    for i in a:\n",
        "        if len(i)>n:\n",
        "            list.append(i)\n",
        "    return list\n",
        "    "
      ],
      "execution_count": 3,
      "outputs": []
    },
    {
      "cell_type": "code",
      "metadata": {
        "id": "2kh3w0SSNkzU",
        "colab_type": "code",
        "colab": {
          "base_uri": "https://localhost:8080/",
          "height": 34
        },
        "outputId": "d0c4163d-6921-4cc6-d9e9-26bd058812a7"
      },
      "source": [
        "filter_long_words(\"India is my country\",4)"
      ],
      "execution_count": 4,
      "outputs": [
        {
          "output_type": "execute_result",
          "data": {
            "text/plain": [
              "['India', 'country']"
            ]
          },
          "metadata": {
            "tags": []
          },
          "execution_count": 4
        }
      ]
    },
    {
      "cell_type": "code",
      "metadata": {
        "id": "ya-fvRB1O40n",
        "colab_type": "code",
        "colab": {}
      },
      "source": [
        "def map_list_words(text):\n",
        "  l = []\n",
        "  for i in text:\n",
        "    l.append(len(i))\n",
        "  return l"
      ],
      "execution_count": 10,
      "outputs": []
    },
    {
      "cell_type": "code",
      "metadata": {
        "id": "YqK2XQ5KPFl0",
        "colab_type": "code",
        "colab": {
          "base_uri": "https://localhost:8080/",
          "height": 34
        },
        "outputId": "28ccd34c-fdbf-4608-c0f1-275395929c15"
      },
      "source": [
        "text =['now', 'we', 'will' ,'transition' ,'to' ,'data' ,'science']\n",
        "map_list_words(text)"
      ],
      "execution_count": 12,
      "outputs": [
        {
          "output_type": "execute_result",
          "data": {
            "text/plain": [
              "[3, 2, 4, 10, 2, 4, 7]"
            ]
          },
          "metadata": {
            "tags": []
          },
          "execution_count": 12
        }
      ]
    },
    {
      "cell_type": "code",
      "metadata": {
        "id": "cp6p7YseP4Ic",
        "colab_type": "code",
        "colab": {}
      },
      "source": [
        "def isvowel(input):\n",
        "  vowel = ['a','e','i','o','u']\n",
        "  if input in vowel:\n",
        "    return True\n",
        "  else:\n",
        "    return False"
      ],
      "execution_count": 16,
      "outputs": []
    },
    {
      "cell_type": "code",
      "metadata": {
        "id": "pfToKCN9QdO8",
        "colab_type": "code",
        "colab": {
          "base_uri": "https://localhost:8080/",
          "height": 34
        },
        "outputId": "6b293934-2bb8-41a7-f1c2-f2b00e2c913c"
      },
      "source": [
        "isvowel('j')"
      ],
      "execution_count": 17,
      "outputs": [
        {
          "output_type": "execute_result",
          "data": {
            "text/plain": [
              "False"
            ]
          },
          "metadata": {
            "tags": []
          },
          "execution_count": 17
        }
      ]
    }
  ]
}